{
 "cells": [
  {
   "cell_type": "markdown",
   "metadata": {},
   "source": [
    "##  Conclusion\n",
    "In this experiment, we established four models, including **decision tree, random forest, naive Bayes, and logistic regression**.\n",
    "\n",
    "And we choose four numerical metrics: **accuracy, precision, recall, F1 score**, and two visual metrics: **confusion matrix, ROC curve**\n",
    "\n",
    "When performing cross-validation, decision trees and random forests have the best overall performance in two classification problems and five classification problems, but their performance is average when predicting U2R attacks; although the overall performance of naive Bayes is the worst, but its performance of predicting probing attacks is very good, and the performance of predicting U2R attacks is best. So we can choose the right model for different purposes.\n",
    "\n",
    "When predicting data which have new probability distributions and new attacks, the performance of all classifiers has declined, among which decision trees and random forests have the least decline. These two models can still be used to predict normal traffic, DOS attacks and probing attacks, but it is not suitable for predicting R2L attacks and U2R attacks."
   ]
  }
 ],
 "metadata": {
  "kernelspec": {
   "display_name": "Python 3",
   "language": "python",
   "name": "python3"
  },
  "language_info": {
   "codemirror_mode": {
    "name": "ipython",
    "version": 3
   },
   "file_extension": ".py",
   "mimetype": "text/x-python",
   "name": "python",
   "nbconvert_exporter": "python",
   "pygments_lexer": "ipython3",
   "version": "3.8.3"
  }
 },
 "nbformat": 4,
 "nbformat_minor": 4
}
