{
 "cells": [
  {
   "cell_type": "markdown",
   "metadata": {},
   "source": [
    "## Introduction\n",
    "\n",
    "The main body of the assessment is [python_analysis.ipynb](https://github.com/xiaozhang-github/DST_Assessment_1/blob/main/report/02-Python_analysis.ipynb), of which \"4.2 Naive Bayes Model \"part is in the [R_analysis.rmd](https://github.com/xiaozhang-github/DST_Assessment_1/blob/main/report/03-R_analysis.Rmd) and [R_analysis.html](https://github.com/xiaozhang-github/DST_Assessment_1/blob/main/report/03-R_analysis.html).\n",
    "\n",
    "About task 1, we established four models, including **decision tree, random forest, naive Bayes, and logistic regression**.\n",
    "\n",
    "About task 2, we choose four numerical metrics: **accuracy, precision, recall, F1 score**, and two visual metrics: **confusion matrix, ROC curve**.\n",
    "\n",
    "About tast 3, We conducted model comparison and evaluation in [python_analysis.ipynb](https://github.com/xiaozhang-github/DST_Assessment_1/blob/main/report/02-Python_analysis.ipynb).\n",
    "\n",
    "\n",
    "This assessment's structure is:\n",
    "### 1  Preparing for python\n",
    "### 2  Reading and preprocessing the data\n",
    "#### 2.1  Reading the data\n",
    "#### 2.2  Preprocessing the data\n",
    "### 3  Creating the unified training dataset and test dataset\n",
    "#### 3.1  Cross-validation\n",
    "#### 3.2  Creating the second test dataset\n",
    "### 4  Building the classification models\n",
    "#### 4.1  Decision Tree Model\n",
    "#### 4.2  Naive Bayes Model \n",
    "#### 4.3  Random Forest Model\n",
    "#### 4.4  Logistic Regression Model\n",
    "### 5  Performance metrics\n",
    "#### 5.1 Calculating accuracy, precision, recall and F1-score\n",
    "#### 5.2  Drawing the confusion matrix\n",
    "#### 5.3  Drawing the POC curve\n",
    "### 6 Repeating the above operations on the second testing dataset\n",
    "### 7 Conclusion\n",
    "### 8 Reference"
   ]
  }
 ],
 "metadata": {
  "kernelspec": {
   "display_name": "Python 3",
   "language": "python",
   "name": "python3"
  },
  "language_info": {
   "codemirror_mode": {
    "name": "ipython",
    "version": 3
   },
   "file_extension": ".py",
   "mimetype": "text/x-python",
   "name": "python",
   "nbconvert_exporter": "python",
   "pygments_lexer": "ipython3",
   "version": "3.8.3"
  }
 },
 "nbformat": 4,
 "nbformat_minor": 4
}
